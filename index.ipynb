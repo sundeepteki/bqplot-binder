{
 "cells": [
  {
   "cell_type": "markdown",
   "metadata": {},
   "source": [
    "# Install the bqplot notebook extension"
   ]
  },
  {
   "cell_type": "code",
   "execution_count": null,
   "metadata": {
    "collapsed": true
   },
   "outputs": [],
   "source": [
    "from __future__ import print_function\n",
    "from bqplot.install import install\n",
    "install(user=True, symlink=True)"
   ]
  },
  {
   "cell_type": "markdown",
   "metadata": {},
   "source": [
    "# A simple plot with the pyplot API"
   ]
  },
  {
   "cell_type": "code",
   "execution_count": null,
   "metadata": {
    "collapsed": true
   },
   "outputs": [],
   "source": [
    "import numpy as np\n",
    "from bqplot import pyplot as plt"
   ]
  },
  {
   "cell_type": "code",
   "execution_count": null,
   "metadata": {
    "collapsed": false
   },
   "outputs": [],
   "source": [
    "plt.figure(1)\n",
    "n = 100\n",
    "plt.plot(np.linspace(0.0, 10.0, n), np.cumsum(np.random.randn(n)), axes_options={'y': {'grid_lines': 'dashed'}})\n",
    "plt.show()"
   ]
  },
  {
   "cell_type": "markdown",
   "metadata": {},
   "source": [
    "# A more verbose and atomic API for creating charts"
   ]
  },
  {
   "cell_type": "code",
   "execution_count": null,
   "metadata": {
    "collapsed": false
   },
   "outputs": [],
   "source": [
    "size = 100\n",
    "x_data = np.random.randn(size)\n",
    "y_data = np.cumsum(np.random.randn(size)  * 100.0)\n",
    "color_data = np.cumsum(np.random.randn(size))\n",
    "rotation_data = np.sin(x_data * 0.1)"
   ]
  },
  {
   "cell_type": "code",
   "execution_count": null,
   "metadata": {
    "collapsed": false
   },
   "outputs": [],
   "source": [
    "from bqplot import *\n",
    "\n",
    "x_sc = LinearScale()\n",
    "y_sc = LinearScale()\n",
    "c_sc = ColorScale()\n",
    "r_sc = LinearScale()\n",
    "s_sc = LinearScale()\n",
    "\n",
    "ax_x = Axis(label='X Axis', scale=x_sc, grid_lines='solid')\n",
    "ax_y = Axis(label='Y Axis', scale=y_sc, orientation='vertical', grid_lines='solid')\n",
    "ax_c = ColorAxis(label='Color Scale', scale=c_sc, orientation='horizontal')\n",
    "\n",
    "scatter = Scatter(x=x_data,\n",
    "                  y=y_data,\n",
    "                  color=color_data,\n",
    "                  rotation=rotation_data,\n",
    "                  marker='arrow',\n",
    "                  animate_dur=1000,\n",
    "                  default_size=100,\n",
    "                  scales={'x': x_sc, 'y': y_sc, 'color': c_sc, 'rotation': r_sc, 'size': s_sc})\n",
    "\n",
    "fig = Figure(axes=[ax_x, ax_y, ax_c], marks=[scatter])\n",
    "fig"
   ]
  },
  {
   "cell_type": "markdown",
   "metadata": {},
   "source": [
    "# Each item of a figure is an IPython widget and reflects changes of its attributes"
   ]
  },
  {
   "cell_type": "code",
   "execution_count": null,
   "metadata": {
    "collapsed": true
   },
   "outputs": [],
   "source": [
    "# Dynamically changing the color data\n",
    "scatter.color = x_data"
   ]
  },
  {
   "cell_type": "code",
   "execution_count": null,
   "metadata": {
    "collapsed": true
   },
   "outputs": [],
   "source": [
    "# Dynamically changing the marker rotation\n",
    "scatter.rotation = np.cos(x_data)"
   ]
  },
  {
   "cell_type": "code",
   "execution_count": null,
   "metadata": {
    "collapsed": true
   },
   "outputs": [],
   "source": [
    "# Dynamically changing the domain of the x scale\n",
    "x_sc.min = -5"
   ]
  },
  {
   "cell_type": "code",
   "execution_count": null,
   "metadata": {
    "collapsed": true
   },
   "outputs": [],
   "source": [
    "# Setting the minimum of the x scale back to None\n",
    "x_sc.min = None"
   ]
  },
  {
   "cell_type": "code",
   "execution_count": null,
   "metadata": {
    "collapsed": true
   },
   "outputs": [],
   "source": [
    "# Changing the color scheme (Color Brewer schemes)\n",
    "c_sc.scheme = 'Purples'"
   ]
  },
  {
   "cell_type": "code",
   "execution_count": null,
   "metadata": {
    "collapsed": true
   },
   "outputs": [],
   "source": [
    "# Displaying another view of the same figure\n",
    "fig"
   ]
  },
  {
   "cell_type": "markdown",
   "metadata": {},
   "source": [
    "# Wiring bqplot widgets with other IPython widgets"
   ]
  },
  {
   "cell_type": "code",
   "execution_count": null,
   "metadata": {
    "collapsed": false
   },
   "outputs": [],
   "source": [
    "from ipywidgets import FloatSlider\n",
    "\n",
    "# Wiring the rotation parameter with a slider\n",
    "def handle_slider(name, old, new):\n",
    "    scatter.rotation = np.cos(10 * new * x_data)\n",
    "    scatter.size = np.sin(10 * new * x_data)\n",
    "\n",
    "handle_slider('value', 0.5, 0.5)\n",
    "slider = FloatSlider(value=0.5, min=0, max=1.0, step=0.01, description='Adjust rotation frequency')\n",
    "slider.on_trait_change(handle_slider, name='value')\n",
    "\n",
    "slider"
   ]
  },
  {
   "cell_type": "markdown",
   "metadata": {},
   "source": [
    "# More advanced visualization: Historical GDP per Capita of different countries"
   ]
  },
  {
   "cell_type": "code",
   "execution_count": null,
   "metadata": {
    "collapsed": true
   },
   "outputs": [],
   "source": [
    "import pandas as pd"
   ]
  },
  {
   "cell_type": "code",
   "execution_count": null,
   "metadata": {
    "collapsed": false
   },
   "outputs": [],
   "source": [
    "data = pd.read_csv('country_codes.csv', index_col=[0])\n",
    "country_codes = data.index.values\n",
    "country_names = data['Name']\n",
    "\n",
    "gdp_data = pd.read_csv('gdp_per_capita.csv', index_col=[0], parse_dates=True)\n",
    "gdp_data.fillna(method='backfill', inplace=True)\n",
    "gdp_data.fillna(method='ffill', inplace=True)\n",
    "\n",
    "data['GDP'] = gdp_data.ix[-1]\n",
    "\n",
    "continents = data['Continent'].values"
   ]
  },
  {
   "cell_type": "code",
   "execution_count": null,
   "metadata": {
    "collapsed": true
   },
   "outputs": [],
   "source": [
    "# Creating the figure to be displayed as the tooltip\n",
    "sc_x = DateScale()\n",
    "sc_y = LinearScale()\n",
    "sc_c = ColorScale(scheme='Greens')\n",
    "\n",
    "ax_x = Axis(scale=sc_x, grid_lines='dashed', label='Date')\n",
    "ax_y = Axis(scale=sc_y, orientation='vertical', grid_lines='dashed',\n",
    "            label='GDP', label_location='end', label_offset='-1em')\n",
    "ax_c = ColorAxis(scale=sc_c)\n",
    "\n",
    "line = Lines(x= gdp_data.index.values, scales={'x': sc_x, 'y': sc_y}, colors=['orange'])\n",
    "fig_tooltip = Figure(marks=[line], axes=[ax_x, ax_y], min_width=600, min_height=400)"
   ]
  },
  {
   "cell_type": "code",
   "execution_count": null,
   "metadata": {
    "collapsed": false
   },
   "outputs": [],
   "source": [
    "from bqplot.market_map import MarketMap\n",
    "\n",
    "market_map = MarketMap(names=country_codes, groups=continents,\n",
    "                       cols=25, row_groups=3,\n",
    "                       color=data['GDP'], scales={'color': sc_c}, axes=[ax_c],\n",
    "                       ref_data=data, tooltip_widget=fig_tooltip)\n",
    "\n",
    "# Update the tooltip\n",
    "hovered_symbol = ''\n",
    "def hover_handler(self, content):\n",
    "    global hovered_symbol\n",
    "    symbol = content.get('ref_data', {}).get('Country Code', '')\n",
    "    if(symbol != hovered_symbol):\n",
    "        hovered_symbol = symbol\n",
    "        if(gdp_data.get(hovered_symbol) is not None):\n",
    "            line.y = gdp_data[hovered_symbol].values\n",
    "            fig_tooltip.title = content.get('ref_data', {}).get('Name', '')\n",
    "               \n",
    "# Custom msg sent when a cell is hovered on\n",
    "market_map.on_hover(hover_handler)\n",
    "market_map"
   ]
  },
  {
   "cell_type": "code",
   "execution_count": null,
   "metadata": {
    "collapsed": true
   },
   "outputs": [],
   "source": []
  }
 ],
 "metadata": {
  "kernelspec": {
   "display_name": "Python 2",
   "language": "python",
   "name": "python2"
  },
  "language_info": {
   "codemirror_mode": {
    "name": "ipython",
    "version": 2
   },
   "file_extension": ".py",
   "mimetype": "text/x-python",
   "name": "python",
   "nbconvert_exporter": "python",
   "pygments_lexer": "ipython2",
   "version": "2.7.10"
  }
 },
 "nbformat": 4,
 "nbformat_minor": 0
}
